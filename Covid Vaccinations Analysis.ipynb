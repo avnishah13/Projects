{
 "cells": [
  {
   "cell_type": "markdown",
   "id": "c877e452",
   "metadata": {},
   "source": [
    "## Statistics Case Study\n",
    "###### Presented by Avni Shah"
   ]
  },
  {
   "cell_type": "code",
   "execution_count": 1,
   "id": "3e040c98",
   "metadata": {},
   "outputs": [],
   "source": [
    "import numpy as np\n",
    "import pandas as pd\n",
    "import scipy.stats\n",
    "import researchpy as rp\n",
    "import seaborn as sns\n",
    "import matplotlib.pyplot as plt"
   ]
  },
  {
   "cell_type": "code",
   "execution_count": 2,
   "id": "4951ee7d",
   "metadata": {},
   "outputs": [],
   "source": [
    "df = pd.read_csv(r\"C:\\Users\\VIREN ( RELIANCE )\\OneDrive\\Desktop\\Covid Vaccination Survey.csv\")"
   ]
  },
  {
   "cell_type": "code",
   "execution_count": 3,
   "id": "772a7b51",
   "metadata": {
    "scrolled": true
   },
   "outputs": [
    {
     "data": {
      "text/html": [
       "<style  type=\"text/css\" >\n",
       "#T_65c52_row0_col0,#T_65c52_row0_col1,#T_65c52_row0_col2,#T_65c52_row0_col3,#T_65c52_row0_col4,#T_65c52_row0_col5,#T_65c52_row0_col6,#T_65c52_row0_col7,#T_65c52_row0_col8,#T_65c52_row0_col9,#T_65c52_row0_col10,#T_65c52_row0_col11,#T_65c52_row0_col12,#T_65c52_row0_col13,#T_65c52_row0_col14,#T_65c52_row0_col15,#T_65c52_row0_col16,#T_65c52_row0_col17,#T_65c52_row0_col18,#T_65c52_row1_col0,#T_65c52_row1_col1,#T_65c52_row1_col2,#T_65c52_row1_col3,#T_65c52_row1_col4,#T_65c52_row1_col5,#T_65c52_row1_col6,#T_65c52_row1_col7,#T_65c52_row1_col8,#T_65c52_row1_col9,#T_65c52_row1_col10,#T_65c52_row1_col11,#T_65c52_row1_col12,#T_65c52_row1_col13,#T_65c52_row1_col14,#T_65c52_row1_col15,#T_65c52_row1_col16,#T_65c52_row1_col17,#T_65c52_row1_col18,#T_65c52_row2_col0,#T_65c52_row2_col1,#T_65c52_row2_col2,#T_65c52_row2_col3,#T_65c52_row2_col4,#T_65c52_row2_col5,#T_65c52_row2_col6,#T_65c52_row2_col7,#T_65c52_row2_col8,#T_65c52_row2_col9,#T_65c52_row2_col10,#T_65c52_row2_col11,#T_65c52_row2_col12,#T_65c52_row2_col13,#T_65c52_row2_col14,#T_65c52_row2_col15,#T_65c52_row2_col16,#T_65c52_row2_col17,#T_65c52_row2_col18,#T_65c52_row3_col0,#T_65c52_row3_col1,#T_65c52_row3_col2,#T_65c52_row3_col3,#T_65c52_row3_col4,#T_65c52_row3_col5,#T_65c52_row3_col6,#T_65c52_row3_col7,#T_65c52_row3_col8,#T_65c52_row3_col9,#T_65c52_row3_col10,#T_65c52_row3_col11,#T_65c52_row3_col12,#T_65c52_row3_col13,#T_65c52_row3_col14,#T_65c52_row3_col15,#T_65c52_row3_col16,#T_65c52_row3_col17,#T_65c52_row3_col18,#T_65c52_row4_col0,#T_65c52_row4_col1,#T_65c52_row4_col2,#T_65c52_row4_col3,#T_65c52_row4_col4,#T_65c52_row4_col5,#T_65c52_row4_col6,#T_65c52_row4_col7,#T_65c52_row4_col8,#T_65c52_row4_col9,#T_65c52_row4_col10,#T_65c52_row4_col11,#T_65c52_row4_col12,#T_65c52_row4_col13,#T_65c52_row4_col14,#T_65c52_row4_col15,#T_65c52_row4_col16,#T_65c52_row4_col17,#T_65c52_row4_col18{\n",
       "            text-align:  left;\n",
       "        }</style><table id=\"T_65c52_\" ><thead>    <tr>        <th class=\"blank level0\" ></th>        <th class=\"col_heading level0 col0\" >Timestamp</th>        <th class=\"col_heading level0 col1\" >Name</th>        <th class=\"col_heading level0 col2\" >Gender</th>        <th class=\"col_heading level0 col3\" >Age</th>        <th class=\"col_heading level0 col4\" >Occupation</th>        <th class=\"col_heading level0 col5\" >Awareness about COVID</th>        <th class=\"col_heading level0 col6\" >Contraction of virus before vaccination</th>        <th class=\"col_heading level0 col7\" >No. of people in personal contact that contracted virus before vaccination</th>        <th class=\"col_heading level0 col8\" >Are the vaccines safe?</th>        <th class=\"col_heading level0 col9\" >Most effective vaccine</th>        <th class=\"col_heading level0 col10\" >Have they and/or their family been vaccinated</th>        <th class=\"col_heading level0 col11\" >Vaccine taken by them</th>        <th class=\"col_heading level0 col12\" >Did they face any side effects after vaccination</th>        <th class=\"col_heading level0 col13\" >Side effects faced by them</th>        <th class=\"col_heading level0 col14\" >Easy avilability of vaccines</th>        <th class=\"col_heading level0 col15\" >Contraction of virus after vaccination</th>        <th class=\"col_heading level0 col16\" >No. of people in personal contact that contracted virus after vaccination</th>        <th class=\"col_heading level0 col17\" >Effectiveness of vaccines on a scale of 1 to 5</th>        <th class=\"col_heading level0 col18\" >Are the vaccines being distributed properly?</th>    </tr></thead><tbody>\n",
       "                <tr>\n",
       "                        <th id=\"T_65c52_level0_row0\" class=\"row_heading level0 row0\" >0</th>\n",
       "                        <td id=\"T_65c52_row0_col0\" class=\"data row0 col0\" >2021/05/03 10:10:14 PM GMT+5:30</td>\n",
       "                        <td id=\"T_65c52_row0_col1\" class=\"data row0 col1\" >Hannan</td>\n",
       "                        <td id=\"T_65c52_row0_col2\" class=\"data row0 col2\" >Male</td>\n",
       "                        <td id=\"T_65c52_row0_col3\" class=\"data row0 col3\" >18 - 30</td>\n",
       "                        <td id=\"T_65c52_row0_col4\" class=\"data row0 col4\" >Student</td>\n",
       "                        <td id=\"T_65c52_row0_col5\" class=\"data row0 col5\" >4</td>\n",
       "                        <td id=\"T_65c52_row0_col6\" class=\"data row0 col6\" >Yes</td>\n",
       "                        <td id=\"T_65c52_row0_col7\" class=\"data row0 col7\" >40</td>\n",
       "                        <td id=\"T_65c52_row0_col8\" class=\"data row0 col8\" >Maybe</td>\n",
       "                        <td id=\"T_65c52_row0_col9\" class=\"data row0 col9\" >Pfizer</td>\n",
       "                        <td id=\"T_65c52_row0_col10\" class=\"data row0 col10\" >Yes</td>\n",
       "                        <td id=\"T_65c52_row0_col11\" class=\"data row0 col11\" >Covishield</td>\n",
       "                        <td id=\"T_65c52_row0_col12\" class=\"data row0 col12\" >Yes</td>\n",
       "                        <td id=\"T_65c52_row0_col13\" class=\"data row0 col13\" >Weakness</td>\n",
       "                        <td id=\"T_65c52_row0_col14\" class=\"data row0 col14\" >Yes</td>\n",
       "                        <td id=\"T_65c52_row0_col15\" class=\"data row0 col15\" >No</td>\n",
       "                        <td id=\"T_65c52_row0_col16\" class=\"data row0 col16\" >1</td>\n",
       "                        <td id=\"T_65c52_row0_col17\" class=\"data row0 col17\" >4</td>\n",
       "                        <td id=\"T_65c52_row0_col18\" class=\"data row0 col18\" >No</td>\n",
       "            </tr>\n",
       "            <tr>\n",
       "                        <th id=\"T_65c52_level0_row1\" class=\"row_heading level0 row1\" >1</th>\n",
       "                        <td id=\"T_65c52_row1_col0\" class=\"data row1 col0\" >2021/05/03 10:15:03 PM GMT+5:30</td>\n",
       "                        <td id=\"T_65c52_row1_col1\" class=\"data row1 col1\" >Viren</td>\n",
       "                        <td id=\"T_65c52_row1_col2\" class=\"data row1 col2\" >Male</td>\n",
       "                        <td id=\"T_65c52_row1_col3\" class=\"data row1 col3\" >30 - 60</td>\n",
       "                        <td id=\"T_65c52_row1_col4\" class=\"data row1 col4\" >Self Employed</td>\n",
       "                        <td id=\"T_65c52_row1_col5\" class=\"data row1 col5\" >5</td>\n",
       "                        <td id=\"T_65c52_row1_col6\" class=\"data row1 col6\" >Yes</td>\n",
       "                        <td id=\"T_65c52_row1_col7\" class=\"data row1 col7\" >20</td>\n",
       "                        <td id=\"T_65c52_row1_col8\" class=\"data row1 col8\" >Yes</td>\n",
       "                        <td id=\"T_65c52_row1_col9\" class=\"data row1 col9\" >Sputnik V</td>\n",
       "                        <td id=\"T_65c52_row1_col10\" class=\"data row1 col10\" >Yes</td>\n",
       "                        <td id=\"T_65c52_row1_col11\" class=\"data row1 col11\" >Covishield</td>\n",
       "                        <td id=\"T_65c52_row1_col12\" class=\"data row1 col12\" >No</td>\n",
       "                        <td id=\"T_65c52_row1_col13\" class=\"data row1 col13\" >No</td>\n",
       "                        <td id=\"T_65c52_row1_col14\" class=\"data row1 col14\" >Yes</td>\n",
       "                        <td id=\"T_65c52_row1_col15\" class=\"data row1 col15\" >No</td>\n",
       "                        <td id=\"T_65c52_row1_col16\" class=\"data row1 col16\" >0</td>\n",
       "                        <td id=\"T_65c52_row1_col17\" class=\"data row1 col17\" >3</td>\n",
       "                        <td id=\"T_65c52_row1_col18\" class=\"data row1 col18\" >No</td>\n",
       "            </tr>\n",
       "            <tr>\n",
       "                        <th id=\"T_65c52_level0_row2\" class=\"row_heading level0 row2\" >2</th>\n",
       "                        <td id=\"T_65c52_row2_col0\" class=\"data row2 col0\" >2021/05/03 10:20:31 PM GMT+5:30</td>\n",
       "                        <td id=\"T_65c52_row2_col1\" class=\"data row2 col1\" >Ketna Master</td>\n",
       "                        <td id=\"T_65c52_row2_col2\" class=\"data row2 col2\" >Female</td>\n",
       "                        <td id=\"T_65c52_row2_col3\" class=\"data row2 col3\" >30 - 60</td>\n",
       "                        <td id=\"T_65c52_row2_col4\" class=\"data row2 col4\" >Self Employed</td>\n",
       "                        <td id=\"T_65c52_row2_col5\" class=\"data row2 col5\" >3</td>\n",
       "                        <td id=\"T_65c52_row2_col6\" class=\"data row2 col6\" >Yes</td>\n",
       "                        <td id=\"T_65c52_row2_col7\" class=\"data row2 col7\" >15</td>\n",
       "                        <td id=\"T_65c52_row2_col8\" class=\"data row2 col8\" >Maybe</td>\n",
       "                        <td id=\"T_65c52_row2_col9\" class=\"data row2 col9\" >Covaxin</td>\n",
       "                        <td id=\"T_65c52_row2_col10\" class=\"data row2 col10\" >Yes</td>\n",
       "                        <td id=\"T_65c52_row2_col11\" class=\"data row2 col11\" >Covishield</td>\n",
       "                        <td id=\"T_65c52_row2_col12\" class=\"data row2 col12\" >Yes</td>\n",
       "                        <td id=\"T_65c52_row2_col13\" class=\"data row2 col13\" >Fever and weakness</td>\n",
       "                        <td id=\"T_65c52_row2_col14\" class=\"data row2 col14\" >Yes</td>\n",
       "                        <td id=\"T_65c52_row2_col15\" class=\"data row2 col15\" >No</td>\n",
       "                        <td id=\"T_65c52_row2_col16\" class=\"data row2 col16\" >0</td>\n",
       "                        <td id=\"T_65c52_row2_col17\" class=\"data row2 col17\" >3</td>\n",
       "                        <td id=\"T_65c52_row2_col18\" class=\"data row2 col18\" >Yes</td>\n",
       "            </tr>\n",
       "            <tr>\n",
       "                        <th id=\"T_65c52_level0_row3\" class=\"row_heading level0 row3\" >3</th>\n",
       "                        <td id=\"T_65c52_row3_col0\" class=\"data row3 col0\" >2021/05/03 10:22:58 PM GMT+5:30</td>\n",
       "                        <td id=\"T_65c52_row3_col1\" class=\"data row3 col1\" >Shaikh Insha</td>\n",
       "                        <td id=\"T_65c52_row3_col2\" class=\"data row3 col2\" >Female</td>\n",
       "                        <td id=\"T_65c52_row3_col3\" class=\"data row3 col3\" >18 - 30</td>\n",
       "                        <td id=\"T_65c52_row3_col4\" class=\"data row3 col4\" >Student</td>\n",
       "                        <td id=\"T_65c52_row3_col5\" class=\"data row3 col5\" >4</td>\n",
       "                        <td id=\"T_65c52_row3_col6\" class=\"data row3 col6\" >No</td>\n",
       "                        <td id=\"T_65c52_row3_col7\" class=\"data row3 col7\" >0</td>\n",
       "                        <td id=\"T_65c52_row3_col8\" class=\"data row3 col8\" >No</td>\n",
       "                        <td id=\"T_65c52_row3_col9\" class=\"data row3 col9\" >Pfizer</td>\n",
       "                        <td id=\"T_65c52_row3_col10\" class=\"data row3 col10\" >No</td>\n",
       "                        <td id=\"T_65c52_row3_col11\" class=\"data row3 col11\" >Other</td>\n",
       "                        <td id=\"T_65c52_row3_col12\" class=\"data row3 col12\" >No</td>\n",
       "                        <td id=\"T_65c52_row3_col13\" class=\"data row3 col13\" >nan</td>\n",
       "                        <td id=\"T_65c52_row3_col14\" class=\"data row3 col14\" >No</td>\n",
       "                        <td id=\"T_65c52_row3_col15\" class=\"data row3 col15\" >No</td>\n",
       "                        <td id=\"T_65c52_row3_col16\" class=\"data row3 col16\" >0</td>\n",
       "                        <td id=\"T_65c52_row3_col17\" class=\"data row3 col17\" >2</td>\n",
       "                        <td id=\"T_65c52_row3_col18\" class=\"data row3 col18\" >Maybe</td>\n",
       "            </tr>\n",
       "            <tr>\n",
       "                        <th id=\"T_65c52_level0_row4\" class=\"row_heading level0 row4\" >4</th>\n",
       "                        <td id=\"T_65c52_row4_col0\" class=\"data row4 col0\" >2021/05/03 10:26:12 PM GMT+5:30</td>\n",
       "                        <td id=\"T_65c52_row4_col1\" class=\"data row4 col1\" >Archana Shah</td>\n",
       "                        <td id=\"T_65c52_row4_col2\" class=\"data row4 col2\" >Female</td>\n",
       "                        <td id=\"T_65c52_row4_col3\" class=\"data row4 col3\" >30 - 60</td>\n",
       "                        <td id=\"T_65c52_row4_col4\" class=\"data row4 col4\" >Housewife</td>\n",
       "                        <td id=\"T_65c52_row4_col5\" class=\"data row4 col5\" >4</td>\n",
       "                        <td id=\"T_65c52_row4_col6\" class=\"data row4 col6\" >Yes</td>\n",
       "                        <td id=\"T_65c52_row4_col7\" class=\"data row4 col7\" >25</td>\n",
       "                        <td id=\"T_65c52_row4_col8\" class=\"data row4 col8\" >Maybe</td>\n",
       "                        <td id=\"T_65c52_row4_col9\" class=\"data row4 col9\" >Covishield</td>\n",
       "                        <td id=\"T_65c52_row4_col10\" class=\"data row4 col10\" >Yes</td>\n",
       "                        <td id=\"T_65c52_row4_col11\" class=\"data row4 col11\" >Covishield</td>\n",
       "                        <td id=\"T_65c52_row4_col12\" class=\"data row4 col12\" >No</td>\n",
       "                        <td id=\"T_65c52_row4_col13\" class=\"data row4 col13\" >nan</td>\n",
       "                        <td id=\"T_65c52_row4_col14\" class=\"data row4 col14\" >Yes</td>\n",
       "                        <td id=\"T_65c52_row4_col15\" class=\"data row4 col15\" >No</td>\n",
       "                        <td id=\"T_65c52_row4_col16\" class=\"data row4 col16\" >1</td>\n",
       "                        <td id=\"T_65c52_row4_col17\" class=\"data row4 col17\" >4</td>\n",
       "                        <td id=\"T_65c52_row4_col18\" class=\"data row4 col18\" >Maybe</td>\n",
       "            </tr>\n",
       "    </tbody></table>"
      ],
      "text/plain": [
       "<pandas.io.formats.style.Styler at 0x24c3b8d0e20>"
      ]
     },
     "execution_count": 3,
     "metadata": {},
     "output_type": "execute_result"
    }
   ],
   "source": [
    "df[0:5].style.set_properties(**{'text-align': 'left'})"
   ]
  },
  {
   "cell_type": "code",
   "execution_count": null,
   "id": "0b289408",
   "metadata": {},
   "outputs": [],
   "source": []
  },
  {
   "cell_type": "markdown",
   "id": "91f7f5e0",
   "metadata": {},
   "source": [
    "### Univariate & Multivariate Analysis"
   ]
  },
  {
   "cell_type": "code",
   "execution_count": 4,
   "id": "90b9a4c1",
   "metadata": {
    "scrolled": true
   },
   "outputs": [
    {
     "data": {
      "text/html": [
       "<style  type=\"text/css\" >\n",
       "#T_ab658_row0_col0,#T_ab658_row0_col1,#T_ab658_row0_col2,#T_ab658_row0_col3,#T_ab658_row1_col0,#T_ab658_row1_col1,#T_ab658_row1_col2,#T_ab658_row1_col3,#T_ab658_row2_col0,#T_ab658_row2_col1,#T_ab658_row2_col2,#T_ab658_row2_col3,#T_ab658_row3_col0,#T_ab658_row3_col1,#T_ab658_row3_col2,#T_ab658_row3_col3,#T_ab658_row4_col0,#T_ab658_row4_col1,#T_ab658_row4_col2,#T_ab658_row4_col3,#T_ab658_row5_col0,#T_ab658_row5_col1,#T_ab658_row5_col2,#T_ab658_row5_col3,#T_ab658_row6_col0,#T_ab658_row6_col1,#T_ab658_row6_col2,#T_ab658_row6_col3,#T_ab658_row7_col0,#T_ab658_row7_col1,#T_ab658_row7_col2,#T_ab658_row7_col3{\n",
       "            text-align:  left;\n",
       "        }</style><table id=\"T_ab658_\" ><thead>    <tr>        <th class=\"blank level0\" ></th>        <th class=\"col_heading level0 col0\" >Awareness about COVID</th>        <th class=\"col_heading level0 col1\" >No. of people in personal contact that contracted virus before vaccination</th>        <th class=\"col_heading level0 col2\" >No. of people in personal contact that contracted virus after vaccination</th>        <th class=\"col_heading level0 col3\" >Effectiveness of vaccines on a scale of 1 to 5</th>    </tr></thead><tbody>\n",
       "                <tr>\n",
       "                        <th id=\"T_ab658_level0_row0\" class=\"row_heading level0 row0\" >count</th>\n",
       "                        <td id=\"T_ab658_row0_col0\" class=\"data row0 col0\" >120.000000</td>\n",
       "                        <td id=\"T_ab658_row0_col1\" class=\"data row0 col1\" >120.000000</td>\n",
       "                        <td id=\"T_ab658_row0_col2\" class=\"data row0 col2\" >120.000000</td>\n",
       "                        <td id=\"T_ab658_row0_col3\" class=\"data row0 col3\" >120.000000</td>\n",
       "            </tr>\n",
       "            <tr>\n",
       "                        <th id=\"T_ab658_level0_row1\" class=\"row_heading level0 row1\" >mean</th>\n",
       "                        <td id=\"T_ab658_row1_col0\" class=\"data row1 col0\" >4.283333</td>\n",
       "                        <td id=\"T_ab658_row1_col1\" class=\"data row1 col1\" >19.008333</td>\n",
       "                        <td id=\"T_ab658_row1_col2\" class=\"data row1 col2\" >2.825000</td>\n",
       "                        <td id=\"T_ab658_row1_col3\" class=\"data row1 col3\" >3.550000</td>\n",
       "            </tr>\n",
       "            <tr>\n",
       "                        <th id=\"T_ab658_level0_row2\" class=\"row_heading level0 row2\" >std</th>\n",
       "                        <td id=\"T_ab658_row2_col0\" class=\"data row2 col0\" >0.746795</td>\n",
       "                        <td id=\"T_ab658_row2_col1\" class=\"data row2 col1\" >32.920708</td>\n",
       "                        <td id=\"T_ab658_row2_col2\" class=\"data row2 col2\" >13.974564</td>\n",
       "                        <td id=\"T_ab658_row2_col3\" class=\"data row2 col3\" >1.215101</td>\n",
       "            </tr>\n",
       "            <tr>\n",
       "                        <th id=\"T_ab658_level0_row3\" class=\"row_heading level0 row3\" >min</th>\n",
       "                        <td id=\"T_ab658_row3_col0\" class=\"data row3 col0\" >3.000000</td>\n",
       "                        <td id=\"T_ab658_row3_col1\" class=\"data row3 col1\" >0.000000</td>\n",
       "                        <td id=\"T_ab658_row3_col2\" class=\"data row3 col2\" >0.000000</td>\n",
       "                        <td id=\"T_ab658_row3_col3\" class=\"data row3 col3\" >1.000000</td>\n",
       "            </tr>\n",
       "            <tr>\n",
       "                        <th id=\"T_ab658_level0_row4\" class=\"row_heading level0 row4\" >25%</th>\n",
       "                        <td id=\"T_ab658_row4_col0\" class=\"data row4 col0\" >4.000000</td>\n",
       "                        <td id=\"T_ab658_row4_col1\" class=\"data row4 col1\" >3.000000</td>\n",
       "                        <td id=\"T_ab658_row4_col2\" class=\"data row4 col2\" >0.000000</td>\n",
       "                        <td id=\"T_ab658_row4_col3\" class=\"data row4 col3\" >3.000000</td>\n",
       "            </tr>\n",
       "            <tr>\n",
       "                        <th id=\"T_ab658_level0_row5\" class=\"row_heading level0 row5\" >50%</th>\n",
       "                        <td id=\"T_ab658_row5_col0\" class=\"data row5 col0\" >4.000000</td>\n",
       "                        <td id=\"T_ab658_row5_col1\" class=\"data row5 col1\" >9.500000</td>\n",
       "                        <td id=\"T_ab658_row5_col2\" class=\"data row5 col2\" >0.000000</td>\n",
       "                        <td id=\"T_ab658_row5_col3\" class=\"data row5 col3\" >4.000000</td>\n",
       "            </tr>\n",
       "            <tr>\n",
       "                        <th id=\"T_ab658_level0_row6\" class=\"row_heading level0 row6\" >75%</th>\n",
       "                        <td id=\"T_ab658_row6_col0\" class=\"data row6 col0\" >5.000000</td>\n",
       "                        <td id=\"T_ab658_row6_col1\" class=\"data row6 col1\" >20.000000</td>\n",
       "                        <td id=\"T_ab658_row6_col2\" class=\"data row6 col2\" >2.000000</td>\n",
       "                        <td id=\"T_ab658_row6_col3\" class=\"data row6 col3\" >5.000000</td>\n",
       "            </tr>\n",
       "            <tr>\n",
       "                        <th id=\"T_ab658_level0_row7\" class=\"row_heading level0 row7\" >max</th>\n",
       "                        <td id=\"T_ab658_row7_col0\" class=\"data row7 col0\" >5.000000</td>\n",
       "                        <td id=\"T_ab658_row7_col1\" class=\"data row7 col1\" >250.000000</td>\n",
       "                        <td id=\"T_ab658_row7_col2\" class=\"data row7 col2\" >150.000000</td>\n",
       "                        <td id=\"T_ab658_row7_col3\" class=\"data row7 col3\" >5.000000</td>\n",
       "            </tr>\n",
       "    </tbody></table>"
      ],
      "text/plain": [
       "<pandas.io.formats.style.Styler at 0x24c3b9e7070>"
      ]
     },
     "execution_count": 4,
     "metadata": {},
     "output_type": "execute_result"
    }
   ],
   "source": [
    "df.describe().style.set_properties(**{'text-align': 'left'})"
   ]
  },
  {
   "cell_type": "code",
   "execution_count": 5,
   "id": "b29ae0d7",
   "metadata": {},
   "outputs": [
    {
     "data": {
      "text/plain": [
       "count    120.000000\n",
       "mean      19.008333\n",
       "std       32.920708\n",
       "min        0.000000\n",
       "25%        3.000000\n",
       "50%        9.500000\n",
       "75%       20.000000\n",
       "max      250.000000\n",
       "Name: No. of people in personal contact that contracted virus before vaccination, dtype: float64"
      ]
     },
     "execution_count": 5,
     "metadata": {},
     "output_type": "execute_result"
    }
   ],
   "source": [
    "#Analysis of no. of infected people before and after being vaccinated\n",
    "df['No. of people in personal contact that contracted virus before vaccination'].describe()"
   ]
  },
  {
   "cell_type": "code",
   "execution_count": 6,
   "id": "08e00e88",
   "metadata": {},
   "outputs": [
    {
     "data": {
      "text/plain": [
       "count    120.000000\n",
       "mean       2.825000\n",
       "std       13.974564\n",
       "min        0.000000\n",
       "25%        0.000000\n",
       "50%        0.000000\n",
       "75%        2.000000\n",
       "max      150.000000\n",
       "Name: No. of people in personal contact that contracted virus after vaccination, dtype: float64"
      ]
     },
     "execution_count": 6,
     "metadata": {},
     "output_type": "execute_result"
    }
   ],
   "source": [
    "df['No. of people in personal contact that contracted virus after vaccination'].describe()"
   ]
  },
  {
   "cell_type": "code",
   "execution_count": 7,
   "id": "c025ed5c",
   "metadata": {},
   "outputs": [
    {
     "data": {
      "text/plain": [
       "<AxesSubplot:>"
      ]
     },
     "execution_count": 7,
     "metadata": {},
     "output_type": "execute_result"
    },
    {
     "data": {
      "image/png": "[encoded data removed]",
      "text/plain": [
       "<Figure size 432x288 with 1 Axes>"
      ]
     },
     "metadata": {
      "needs_background": "light"
     },
     "output_type": "display_data"
    }
   ],
   "source": [
    "data = pd.DataFrame()\n",
    "data['Before vaccination'] = df['No. of people in personal contact that contracted virus before vaccination']\n",
    "data['After Vaccination'] = df['No. of people in personal contact that contracted virus after vaccination']\n",
    "\n",
    "sns.boxplot(data = data)"
   ]
  },
  {
   "cell_type": "code",
   "execution_count": 8,
   "id": "208cc0c8",
   "metadata": {},
   "outputs": [
    {
     "data": {
      "text/plain": [
       "<AxesSubplot:>"
      ]
     },
     "execution_count": 8,
     "metadata": {},
     "output_type": "execute_result"
    },
    {
     "data": {
      "image/png": "[encoded data removed]",
      "text/plain": [
       "<Figure size 432x288 with 1 Axes>"
      ]
     },
     "metadata": {
      "needs_background": "light"
     },
     "output_type": "display_data"
    }
   ],
   "source": [
    "sns.scatterplot(data = data)"
   ]
  },
  {
   "cell_type": "code",
   "execution_count": null,
   "id": "67d2f832",
   "metadata": {},
   "outputs": [],
   "source": []
  },
  {
   "cell_type": "markdown",
   "id": "81e599f0",
   "metadata": {},
   "source": [
    "### Data Visualization"
   ]
  },
  {
   "cell_type": "code",
   "execution_count": 9,
   "id": "095bb610",
   "metadata": {},
   "outputs": [
    {
     "data": {
      "text/html": [
       "<div>\n",
       "<style scoped>\n",
       "    .dataframe tbody tr th:only-of-type {\n",
       "        vertical-align: middle;\n",
       "    }\n",
       "\n",
       "    .dataframe tbody tr th {\n",
       "        vertical-align: top;\n",
       "    }\n",
       "\n",
       "    .dataframe thead th {\n",
       "        text-align: right;\n",
       "    }\n",
       "</style>\n",
       "<table border=\"1\" class=\"dataframe\">\n",
       "  <thead>\n",
       "    <tr style=\"text-align: right;\">\n",
       "      <th></th>\n",
       "      <th></th>\n",
       "      <th>Effectiveness of vaccines on a scale of 1 to 5</th>\n",
       "    </tr>\n",
       "    <tr>\n",
       "      <th>Gender</th>\n",
       "      <th>Age</th>\n",
       "      <th></th>\n",
       "    </tr>\n",
       "  </thead>\n",
       "  <tbody>\n",
       "    <tr>\n",
       "      <th rowspan=\"3\" valign=\"top\">Female</th>\n",
       "      <th>18 - 30</th>\n",
       "      <td>3.560000</td>\n",
       "    </tr>\n",
       "    <tr>\n",
       "      <th>30 - 60</th>\n",
       "      <td>3.225806</td>\n",
       "    </tr>\n",
       "    <tr>\n",
       "      <th>Above 60</th>\n",
       "      <td>3.166667</td>\n",
       "    </tr>\n",
       "    <tr>\n",
       "      <th rowspan=\"4\" valign=\"top\">Male</th>\n",
       "      <th>18 - 30</th>\n",
       "      <td>3.285714</td>\n",
       "    </tr>\n",
       "    <tr>\n",
       "      <th>30 - 60</th>\n",
       "      <td>4.192308</td>\n",
       "    </tr>\n",
       "    <tr>\n",
       "      <th>Above 60</th>\n",
       "      <td>5.000000</td>\n",
       "    </tr>\n",
       "    <tr>\n",
       "      <th>Below 18</th>\n",
       "      <td>3.500000</td>\n",
       "    </tr>\n",
       "  </tbody>\n",
       "</table>\n",
       "</div>"
      ],
      "text/plain": [
       "                 Effectiveness of vaccines on a scale of 1 to 5\n",
       "Gender Age                                                     \n",
       "Female 18 - 30                                         3.560000\n",
       "       30 - 60                                         3.225806\n",
       "       Above 60                                        3.166667\n",
       "Male   18 - 30                                         3.285714\n",
       "       30 - 60                                         4.192308\n",
       "       Above 60                                        5.000000\n",
       "       Below 18                                        3.500000"
      ]
     },
     "execution_count": 9,
     "metadata": {},
     "output_type": "execute_result"
    }
   ],
   "source": [
    "#Relation between views on effectiveness of vaccines with gender and age\n",
    "pd.pivot_table(data = df, index = ['Gender', 'Age'], values = ['Effectiveness of vaccines on a scale of 1 to 5'])"
   ]
  },
  {
   "cell_type": "code",
   "execution_count": 10,
   "id": "a6d05929",
   "metadata": {},
   "outputs": [
    {
     "data": {
      "text/plain": [
       "<AxesSubplot:xlabel='Gender', ylabel='Effectiveness of vaccines on a scale of 1 to 5'>"
      ]
     },
     "execution_count": 10,
     "metadata": {},
     "output_type": "execute_result"
    },
    {
     "data": {
      "image/png": "[encoded data removed]",
      "text/plain": [
       "<Figure size 432x288 with 1 Axes>"
      ]
     },
     "metadata": {
      "needs_background": "light"
     },
     "output_type": "display_data"
    }
   ],
   "source": [
    "sns.barplot(x = 'Gender', y = 'Effectiveness of vaccines on a scale of 1 to 5', hue = 'Age', data = df)"
   ]
  },
  {
   "cell_type": "code",
   "execution_count": 11,
   "id": "3d115490",
   "metadata": {},
   "outputs": [
    {
     "data": {
      "text/html": [
       "<div>\n",
       "<style scoped>\n",
       "    .dataframe tbody tr th:only-of-type {\n",
       "        vertical-align: middle;\n",
       "    }\n",
       "\n",
       "    .dataframe tbody tr th {\n",
       "        vertical-align: top;\n",
       "    }\n",
       "\n",
       "    .dataframe thead th {\n",
       "        text-align: right;\n",
       "    }\n",
       "</style>\n",
       "<table border=\"1\" class=\"dataframe\">\n",
       "  <thead>\n",
       "    <tr style=\"text-align: right;\">\n",
       "      <th></th>\n",
       "      <th>No. of people in personal contact that contracted virus before vaccination</th>\n",
       "    </tr>\n",
       "    <tr>\n",
       "      <th>Age</th>\n",
       "      <th></th>\n",
       "    </tr>\n",
       "  </thead>\n",
       "  <tbody>\n",
       "    <tr>\n",
       "      <th>18 - 30</th>\n",
       "      <td>16.150943</td>\n",
       "    </tr>\n",
       "    <tr>\n",
       "      <th>30 - 60</th>\n",
       "      <td>18.298246</td>\n",
       "    </tr>\n",
       "    <tr>\n",
       "      <th>Above 60</th>\n",
       "      <td>45.500000</td>\n",
       "    </tr>\n",
       "    <tr>\n",
       "      <th>Below 18</th>\n",
       "      <td>9.000000</td>\n",
       "    </tr>\n",
       "  </tbody>\n",
       "</table>\n",
       "</div>"
      ],
      "text/plain": [
       "          No. of people in personal contact that contracted virus before vaccination\n",
       "Age                                                                                 \n",
       "18 - 30                                           16.150943                         \n",
       "30 - 60                                           18.298246                         \n",
       "Above 60                                          45.500000                         \n",
       "Below 18                                           9.000000                         "
      ]
     },
     "execution_count": 11,
     "metadata": {},
     "output_type": "execute_result"
    }
   ],
   "source": [
    "#Relation between no. of infected people in contact and age\n",
    "pd.pivot_table(data = df, index = ['Age'], values = ['No. of people in personal contact that contracted virus before vaccination'])"
   ]
  },
  {
   "cell_type": "code",
   "execution_count": 12,
   "id": "cd72d2a8",
   "metadata": {},
   "outputs": [
    {
     "data": {
      "text/plain": [
       "<AxesSubplot:xlabel='No. of people in personal contact that contracted virus before vaccination', ylabel='Count'>"
      ]
     },
     "execution_count": 12,
     "metadata": {},
     "output_type": "execute_result"
    },
    {
     "data": {
      "image/png": "[encoded data removed]",
      "text/plain": [
       "<Figure size 432x288 with 1 Axes>"
      ]
     },
     "metadata": {
      "needs_background": "light"
     },
     "output_type": "display_data"
    }
   ],
   "source": [
    "sns.histplot(x = 'No. of people in personal contact that contracted virus before vaccination', hue = 'Age', data = df)"
   ]
  },
  {
   "cell_type": "code",
   "execution_count": null,
   "id": "0e6a1c6a",
   "metadata": {},
   "outputs": [],
   "source": []
  },
  {
   "cell_type": "markdown",
   "id": "d52f3662",
   "metadata": {},
   "source": [
    "### Paired Sample T - Test"
   ]
  },
  {
   "cell_type": "code",
   "execution_count": 13,
   "id": "7094a1c5",
   "metadata": {},
   "outputs": [],
   "source": [
    "#Hypothesis\n",
    "#H0 : There is no significant difference in the number of cases before and after vaccination.\n",
    "#V/S\n",
    "#H1 : There is significant difference in the number of cases before and after vaccination."
   ]
  },
  {
   "cell_type": "code",
   "execution_count": 14,
   "id": "035de2e7",
   "metadata": {},
   "outputs": [],
   "source": [
    "from scipy.stats import ttest_rel"
   ]
  },
  {
   "cell_type": "code",
   "execution_count": 15,
   "id": "1db1fd35",
   "metadata": {},
   "outputs": [],
   "source": [
    "a = df[\"No. of people in personal contact that contracted virus before vaccination\"]\n",
    "b = df[\"No. of people in personal contact that contracted virus after vaccination\"]"
   ]
  },
  {
   "cell_type": "code",
   "execution_count": 16,
   "id": "b353a6ea",
   "metadata": {},
   "outputs": [
    {
     "data": {
      "text/plain": [
       "Ttest_relResult(statistic=5.850187085023075, pvalue=4.416014775131506e-08)"
      ]
     },
     "execution_count": 16,
     "metadata": {},
     "output_type": "execute_result"
    }
   ],
   "source": [
    "ttest_rel(a,b)"
   ]
  },
  {
   "cell_type": "code",
   "execution_count": 17,
   "id": "0c4a2644",
   "metadata": {},
   "outputs": [],
   "source": [
    "#pvalue(0.0000000441) < alpha(0.05)\n",
    "#Thus, we reject H0."
   ]
  },
  {
   "cell_type": "markdown",
   "id": "e8e6eff8",
   "metadata": {},
   "source": [
    "#### Hence, there is significant different in the number of cases before and after vaccination.\n",
    "###### *The number of cases has greatly decreased after taking vaccines.*"
   ]
  },
  {
   "cell_type": "code",
   "execution_count": null,
   "id": "6cb7dfa2",
   "metadata": {},
   "outputs": [],
   "source": []
  },
  {
   "cell_type": "markdown",
   "id": "5d89870d",
   "metadata": {},
   "source": [
    "### Two Sample T - Test"
   ]
  },
  {
   "cell_type": "code",
   "execution_count": 18,
   "id": "e7b27f19",
   "metadata": {},
   "outputs": [],
   "source": [
    "from scipy.stats import ttest_ind"
   ]
  },
  {
   "cell_type": "code",
   "execution_count": 19,
   "id": "d71b3d0b",
   "metadata": {},
   "outputs": [],
   "source": [
    "#Hypotheis\n",
    "#H0 : There is no significant difference in the awareness about COVID between men and women.\n",
    "#V/S\n",
    "#H1 : There is significant difference in the awareness about COVID between men and women."
   ]
  },
  {
   "cell_type": "code",
   "execution_count": 20,
   "id": "cf3b65c4",
   "metadata": {},
   "outputs": [
    {
     "data": {
      "text/html": [
       "<div>\n",
       "<style scoped>\n",
       "    .dataframe tbody tr th:only-of-type {\n",
       "        vertical-align: middle;\n",
       "    }\n",
       "\n",
       "    .dataframe tbody tr th {\n",
       "        vertical-align: top;\n",
       "    }\n",
       "\n",
       "    .dataframe thead th {\n",
       "        text-align: right;\n",
       "    }\n",
       "</style>\n",
       "<table border=\"1\" class=\"dataframe\">\n",
       "  <thead>\n",
       "    <tr style=\"text-align: right;\">\n",
       "      <th></th>\n",
       "      <th>count</th>\n",
       "      <th>mean</th>\n",
       "      <th>std</th>\n",
       "      <th>min</th>\n",
       "      <th>25%</th>\n",
       "      <th>50%</th>\n",
       "      <th>75%</th>\n",
       "      <th>max</th>\n",
       "    </tr>\n",
       "    <tr>\n",
       "      <th>Gender</th>\n",
       "      <th></th>\n",
       "      <th></th>\n",
       "      <th></th>\n",
       "      <th></th>\n",
       "      <th></th>\n",
       "      <th></th>\n",
       "      <th></th>\n",
       "      <th></th>\n",
       "    </tr>\n",
       "  </thead>\n",
       "  <tbody>\n",
       "    <tr>\n",
       "      <th>Female</th>\n",
       "      <td>62.0</td>\n",
       "      <td>4.258065</td>\n",
       "      <td>0.766843</td>\n",
       "      <td>3.0</td>\n",
       "      <td>4.0</td>\n",
       "      <td>4.0</td>\n",
       "      <td>5.0</td>\n",
       "      <td>5.0</td>\n",
       "    </tr>\n",
       "    <tr>\n",
       "      <th>Male</th>\n",
       "      <td>58.0</td>\n",
       "      <td>4.310345</td>\n",
       "      <td>0.730462</td>\n",
       "      <td>3.0</td>\n",
       "      <td>4.0</td>\n",
       "      <td>4.0</td>\n",
       "      <td>5.0</td>\n",
       "      <td>5.0</td>\n",
       "    </tr>\n",
       "  </tbody>\n",
       "</table>\n",
       "</div>"
      ],
      "text/plain": [
       "        count      mean       std  min  25%  50%  75%  max\n",
       "Gender                                                    \n",
       "Female   62.0  4.258065  0.766843  3.0  4.0  4.0  5.0  5.0\n",
       "Male     58.0  4.310345  0.730462  3.0  4.0  4.0  5.0  5.0"
      ]
     },
     "execution_count": 20,
     "metadata": {},
     "output_type": "execute_result"
    }
   ],
   "source": [
    "df.groupby('Gender')['Awareness about COVID'].describe()"
   ]
  },
  {
   "cell_type": "code",
   "execution_count": 21,
   "id": "99864e98",
   "metadata": {},
   "outputs": [],
   "source": [
    "Male = df[(df['Gender'] == 'Male')]\n",
    "Male.reset_index(inplace = True)\n",
    "\n",
    "Female = df[(df['Gender'] == 'Female')]\n",
    "Female.reset_index(inplace = True)"
   ]
  },
  {
   "cell_type": "code",
   "execution_count": 22,
   "id": "d1228b88",
   "metadata": {},
   "outputs": [
    {
     "data": {
      "text/plain": [
       "Ttest_indResult(statistic=0.3818488979401267, pvalue=0.7032602262059726)"
      ]
     },
     "execution_count": 22,
     "metadata": {},
     "output_type": "execute_result"
    }
   ],
   "source": [
    "scipy.stats.ttest_ind(Male['Awareness about COVID'],Female['Awareness about COVID'])"
   ]
  },
  {
   "cell_type": "code",
   "execution_count": 23,
   "id": "5f2f3913",
   "metadata": {},
   "outputs": [],
   "source": [
    "#pvalue(0.7) > alpha(0.05)\n",
    "#Thus, we do not reject H0."
   ]
  },
  {
   "cell_type": "markdown",
   "id": "7f9b10e2",
   "metadata": {},
   "source": [
    "#### There is no significant difference in the awareness about COVID between men and women.\n",
    "###### *Both men and women are almost equally aware about COVID 19.*"
   ]
  },
  {
   "cell_type": "code",
   "execution_count": null,
   "id": "4b26fc78",
   "metadata": {},
   "outputs": [],
   "source": []
  },
  {
   "cell_type": "markdown",
   "id": "551f332f",
   "metadata": {},
   "source": [
    "### Chi Square Test of Independence or Association"
   ]
  },
  {
   "cell_type": "code",
   "execution_count": 24,
   "id": "f4390a3d",
   "metadata": {},
   "outputs": [],
   "source": [
    "#1. Hypotheses\n",
    "#H0 : There is no relationship between age and views on most effective vaccine(Independent)\n",
    "#VS\n",
    "#H1 : There is a relationship between age and views on most effective vaccine(Dependent)"
   ]
  },
  {
   "cell_type": "code",
   "execution_count": 25,
   "id": "0c33050d",
   "metadata": {},
   "outputs": [
    {
     "data": {
      "text/plain": [
       "(                       Most effective vaccine                                 \n",
       " Most effective vaccine                Covaxin Covishield Pfizer Sputnik V  All\n",
       " Age                                                                           \n",
       " 18 - 30                                     7         15     26         5   53\n",
       " 30 - 60                                    12         27     12         6   57\n",
       " Above 60                                    0          6      2         0    8\n",
       " Below 18                                    0          0      2         0    2\n",
       " All                                        19         48     42        11  120,\n",
       "                 Chi-square test  results\n",
       " 0  Pearson Chi-square ( 9.0) =   18.4704\n",
       " 1                    p-value =    0.0301\n",
       " 2                 Cramer's V =    0.2265)"
      ]
     },
     "execution_count": 25,
     "metadata": {},
     "output_type": "execute_result"
    }
   ],
   "source": [
    "rp.crosstab(df['Age'],df['Most effective vaccine'],test = 'chi-square')"
   ]
  },
  {
   "cell_type": "code",
   "execution_count": 26,
   "id": "e024124b",
   "metadata": {},
   "outputs": [],
   "source": [
    "#pvalue(0.03) < alpha(0.05)\n",
    "#Thus, we reject H0."
   ]
  },
  {
   "cell_type": "markdown",
   "id": "4f123b56",
   "metadata": {},
   "source": [
    "#### Thus, there is a relationship between age and views on most effective vaccine.\n",
    "###### *Younger people lean towards Pfizer whereas older people prefer Covishield.*"
   ]
  },
  {
   "cell_type": "code",
   "execution_count": null,
   "id": "be4395bc",
   "metadata": {},
   "outputs": [],
   "source": []
  },
  {
   "cell_type": "code",
   "execution_count": 27,
   "id": "a6602265",
   "metadata": {},
   "outputs": [],
   "source": [
    "#Hypotheses\n",
    "#H0 : There is no relationship between gender and views on most effective vaccine(Independent)\n",
    "#VS\n",
    "#H1 : There is a relationship between gender and views on most effective vaccine(Dependent)"
   ]
  },
  {
   "cell_type": "code",
   "execution_count": 28,
   "id": "1e49e5d9",
   "metadata": {},
   "outputs": [
    {
     "data": {
      "text/plain": [
       "(                       Most effective vaccine                                 \n",
       " Most effective vaccine                Covaxin Covishield Pfizer Sputnik V  All\n",
       " Gender                                                                        \n",
       " Female                                      8         27     22         5   62\n",
       " Male                                       11         21     20         6   58\n",
       " All                                        19         48     42        11  120,\n",
       "                 Chi-square test  results\n",
       " 0  Pearson Chi-square ( 3.0) =    1.2779\n",
       " 1                    p-value =    0.7344\n",
       " 2                 Cramer's V =    0.1032)"
      ]
     },
     "execution_count": 28,
     "metadata": {},
     "output_type": "execute_result"
    }
   ],
   "source": [
    "rp.crosstab(df['Gender'],df['Most effective vaccine'],test = 'chi-square')"
   ]
  },
  {
   "cell_type": "code",
   "execution_count": 29,
   "id": "34e88ed3",
   "metadata": {},
   "outputs": [],
   "source": [
    "#pvalue(0.73) < alpha(0.05)\n",
    "#Thus, we do not reject H0."
   ]
  },
  {
   "cell_type": "markdown",
   "id": "2a0bc7e5",
   "metadata": {},
   "source": [
    "#### Thus, there is no significant relationship between gender and views on most effective vaccine.\n",
    "###### *Both men and women are leaning towards the same vaccine.*"
   ]
  },
  {
   "cell_type": "code",
   "execution_count": null,
   "id": "c317cff8",
   "metadata": {},
   "outputs": [],
   "source": []
  },
  {
   "cell_type": "markdown",
   "id": "9d60f6b1",
   "metadata": {},
   "source": [
    "### Chi Square Test of Homogeneity"
   ]
  },
  {
   "cell_type": "code",
   "execution_count": 30,
   "id": "108fba5f",
   "metadata": {},
   "outputs": [],
   "source": [
    "#Hypotheses\n",
    "#H0 : There is no relationship between vaccine taken and contraction of virus in family after vaccination(Independent)\n",
    "#VS\n",
    "#H1 : There is a relationship between vaccine taken and contraction of virus in family after vaccination(Dependent)"
   ]
  },
  {
   "cell_type": "code",
   "execution_count": 31,
   "id": "c1b825b4",
   "metadata": {},
   "outputs": [
    {
     "data": {
      "text/plain": [
       "(                                       Contraction of virus after vaccination  \\\n",
       " Contraction of virus after vaccination                                     No   \n",
       " Vaccine taken by them                                                           \n",
       " Covaxin                                                                     9   \n",
       " Covishield                                                                 85   \n",
       " Other                                                                      16   \n",
       " All                                                                       110   \n",
       " \n",
       "                                                  \n",
       " Contraction of virus after vaccination Yes  All  \n",
       " Vaccine taken by them                            \n",
       " Covaxin                                  0    9  \n",
       " Covishield                               5   90  \n",
       " Other                                    5   21  \n",
       " All                                     10  120  ,\n",
       "                 Chi-square test  results\n",
       " 0  Pearson Chi-square ( 2.0) =    8.3117\n",
       " 1                    p-value =    0.0157\n",
       " 2                 Cramer's V =    0.2632)"
      ]
     },
     "execution_count": 31,
     "metadata": {},
     "output_type": "execute_result"
    }
   ],
   "source": [
    "rp.crosstab(df['Vaccine taken by them'],df['Contraction of virus after vaccination'],test = 'chi-square')"
   ]
  },
  {
   "cell_type": "code",
   "execution_count": 32,
   "id": "c0a97315",
   "metadata": {},
   "outputs": [],
   "source": [
    "#pvalue(0.01) < alpha(0.05)\n",
    "#Thus, we reject H0."
   ]
  },
  {
   "cell_type": "markdown",
   "id": "1df06b2f",
   "metadata": {},
   "source": [
    "#### Hence, there is a relationship between vaccine taken and contraction of virus in family after vaccination.\n",
    "###### *People taking Covaxin are less likely to contract the virus.*"
   ]
  },
  {
   "cell_type": "code",
   "execution_count": null,
   "id": "4d38150f",
   "metadata": {},
   "outputs": [],
   "source": []
  },
  {
   "cell_type": "markdown",
   "id": "8d00703f",
   "metadata": {},
   "source": [
    "### F - Test"
   ]
  },
  {
   "cell_type": "code",
   "execution_count": 33,
   "id": "efe8d281",
   "metadata": {},
   "outputs": [],
   "source": [
    "def f_test(x,y):\n",
    "    x = np.array(x)\n",
    "    y = np.array(y)\n",
    "    f = np.var(x, ddof = 1)/np.var(y, ddof = 1)\n",
    "    dfx = x.size - 1\n",
    "    dfy = y.size - 1\n",
    "    p = 1 - scipy.stats.f.cdf(f,dfx,dfy)\n",
    "    return f,p"
   ]
  },
  {
   "cell_type": "code",
   "execution_count": 34,
   "id": "eba28822",
   "metadata": {},
   "outputs": [],
   "source": [
    "#Hypotheses\n",
    "#H0 : There is no significant relationship between vaccine taken and views of people on effectiveness of vaccines(Independent)\n",
    "#VS\n",
    "#H1 : There is a significant relationship between vaccine taken and views of people on effectiveness of vaccines(Dependent)"
   ]
  },
  {
   "cell_type": "code",
   "execution_count": 35,
   "id": "34e126d6",
   "metadata": {},
   "outputs": [],
   "source": [
    "Covishield = df[(df['Vaccine taken by them'] == 'Covishield')]\n",
    "Covaxin = df[(df['Vaccine taken by them'] == 'Covaxin')]"
   ]
  },
  {
   "cell_type": "code",
   "execution_count": 36,
   "id": "56d986a6",
   "metadata": {
    "scrolled": true
   },
   "outputs": [
    {
     "data": {
      "text/plain": [
       "(1.7171868497711194, 0.21006604704320597)"
      ]
     },
     "execution_count": 36,
     "metadata": {},
     "output_type": "execute_result"
    }
   ],
   "source": [
    "f_test(Covishield['Effectiveness of vaccines on a scale of 1 to 5'],Covaxin['Effectiveness of vaccines on a scale of 1 to 5'])"
   ]
  },
  {
   "cell_type": "code",
   "execution_count": 37,
   "id": "a3a1847a",
   "metadata": {},
   "outputs": [],
   "source": [
    "# pvalue(0.36) > alpha(0.05)\n",
    "#Thus, we do not reject H0."
   ]
  },
  {
   "cell_type": "markdown",
   "id": "0b94f880",
   "metadata": {},
   "source": [
    "#### There is no significant relationship between vaccine taken(Covishield and Covaxin) and views of people on effectiveness of vaccines.\n",
    "###### *People's views aren't affected by the vaccine they and/or their family has taken.*"
   ]
  }
 ],
 "metadata": {
  "kernelspec": {
   "display_name": "Python 3",
   "language": "python",
   "name": "python3"
  },
  "language_info": {
   "codemirror_mode": {
    "name": "ipython",
    "version": 3
   },
   "file_extension": ".py",
   "mimetype": "text/x-python",
   "name": "python",
   "nbconvert_exporter": "python",
   "pygments_lexer": "ipython3",
   "version": "3.8.3"
  }
 },
 "nbformat": 4,
 "nbformat_minor": 5
}
